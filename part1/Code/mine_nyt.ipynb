{
 "cells": [
  {
   "cell_type": "markdown",
   "metadata": {},
   "source": [
    "## Importing libraries"
   ]
  },
  {
   "cell_type": "code",
   "execution_count": 3,
   "metadata": {},
   "outputs": [],
   "source": [
    "from nytimesarticle import articleAPI\n",
    "import json\n",
    "import requests\n",
    "from bs4 import BeautifulSoup"
   ]
  },
  {
   "cell_type": "markdown",
   "metadata": {},
   "source": [
    "## Authenticating with NYT api"
   ]
  },
  {
   "cell_type": "code",
   "execution_count": 4,
   "metadata": {},
   "outputs": [],
   "source": [
    "api = articleAPI('YDuOmNaLmXHo9Y2U1qVJCGBY9I4SSHIl')"
   ]
  },
  {
   "cell_type": "markdown",
   "metadata": {},
   "source": [
    "## Mining text using Beautiful Soup"
   ]
  },
  {
   "cell_type": "code",
   "execution_count": 1,
   "metadata": {},
   "outputs": [],
   "source": [
    "def data_mine(link, filename):\n",
    "    r = requests.get(url = link)\n",
    "    c = r.content\n",
    "    soup = BeautifulSoup(c,\"html.parser\")\n",
    "    for xx in soup.find_all('p'):\n",
    "        file = open(filename,\"a\")\n",
    "        file.write(str(xx.text.encode('Utf-8')))\n",
    "        file.write('\\n')\n",
    "        file.close()\n",
    "        \n",
    "def mine_text(query, filename):\n",
    "    cnt = 0\n",
    "    for i in range(0,10):\n",
    "        res = (api.search( q = query, begin_date = 20190101, page=i))\n",
    "        for x in range(0,10):\n",
    "            if(res['response']['docs'][x]['web_url'] == \"\"):\n",
    "                continue\n",
    "            else:\n",
    "                data_mine(res['response']['docs'][x]['web_url'], filename)\n",
    "                cnt = cnt + 1"
   ]
  },
  {
   "cell_type": "code",
   "execution_count": 14,
   "metadata": {},
   "outputs": [
    {
     "name": "stdout",
     "output_type": "stream",
     "text": [
      "100\n"
     ]
    }
   ],
   "source": [
    "key = [\"golf\", \"soccer\", \"tennis\", \"baseball\", \"basketball\"]\n",
    "filename = [\"golf.txt\", \"soccer.txt\", \"tennis.txt\", \"baseball.txt\", \"basketball.txt\"]\n",
    "for i,j in zip(key, filename):\n",
    "    mine_text(i, j)"
   ]
  }
 ],
 "metadata": {
  "kernelspec": {
   "display_name": "Python 2",
   "language": "python",
   "name": "python2"
  },
  "language_info": {
   "codemirror_mode": {
    "name": "ipython",
    "version": 2
   },
   "file_extension": ".py",
   "mimetype": "text/x-python",
   "name": "python",
   "nbconvert_exporter": "python",
   "pygments_lexer": "ipython2",
   "version": "2.7.15"
  }
 },
 "nbformat": 4,
 "nbformat_minor": 2
}
