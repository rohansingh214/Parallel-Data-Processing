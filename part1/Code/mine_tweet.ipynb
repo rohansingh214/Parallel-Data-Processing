{
 "cells": [
  {
   "cell_type": "markdown",
   "metadata": {},
   "source": [
    "## Import essential libraries"
   ]
  },
  {
   "cell_type": "code",
   "execution_count": 11,
   "metadata": {},
   "outputs": [],
   "source": [
    "import tweepy\n",
    "import json\n",
    "import numpy as np"
   ]
  },
  {
   "cell_type": "markdown",
   "metadata": {},
   "source": [
    "## Authenticating with API keys"
   ]
  },
  {
   "cell_type": "code",
   "execution_count": 12,
   "metadata": {},
   "outputs": [],
   "source": [
    "consumer_key = 'sGIAYYqjxlpHOfMVUEYMWtJdv'\n",
    "consumer_secret = 'PqsftbHLXXKaNM6m8tzNZBefzT8d6p8Jyvxah1yweldJkd2Aab'\n",
    "access_token = '1035633911722921984-2FIDYGPkBSPk3afypBtyXmHfTnn4PW'\n",
    "access_token_secret = '9SUCrCVlGP8QUeslaX7LSoq5HRYtgwwSBvkcxfaIniDu4'"
   ]
  },
  {
   "cell_type": "code",
   "execution_count": 13,
   "metadata": {},
   "outputs": [],
   "source": [
    "auth = tweepy.AppAuthHandler(consumer_key, consumer_secret)"
   ]
  },
  {
   "cell_type": "code",
   "execution_count": 14,
   "metadata": {},
   "outputs": [],
   "source": [
    "api = tweepy.API(auth,wait_on_rate_limit=True,wait_on_rate_limit_notify=True)"
   ]
  },
  {
   "cell_type": "markdown",
   "metadata": {},
   "source": [
    "## Searching tweets using tweepy and writing it to file"
   ]
  },
  {
   "cell_type": "code",
   "execution_count": 21,
   "metadata": {},
   "outputs": [],
   "source": [
    "def search_tweets(keyword, filename):\n",
    "    query = keyword+\" -filter:retweets since:2019-04-12 until:2019-04-17\"\n",
    "    language = \"en\"\n",
    "    results = \"\"\n",
    "    cnt = 0\n",
    "    file = open(filename,\"a\")\n",
    "    for tweet in tweepy.Cursor(api.search,q=query, lang=language,tweet_mode='extended').items():\n",
    "        if cnt < 6001:\n",
    "            file.write(str(tweet.full_text.encode('Utf-8')))\n",
    "            file.write('\\n')\n",
    "            cnt = cnt + 1\n",
    "            print(cnt)\n",
    "        else:\n",
    "            break\n",
    "    file.close()"
   ]
  },
  {
   "cell_type": "code",
   "execution_count": null,
   "metadata": {},
   "outputs": [],
   "source": [
    "key = [\"golf\", \"soccer\", \"tennis\", \"baseball\", \"basketball\"]\n",
    "filename = [\"golf.txt\", \"soccer.txt\", \"tennis.txt\", \"baseball.txt\", \"basketball.txt\"]\n",
    "for i,j in zip(key, filename):\n",
    "    search_tweets(i, j)"
   ]
  }
 ],
 "metadata": {
  "kernelspec": {
   "display_name": "Python 2",
   "language": "python",
   "name": "python2"
  },
  "language_info": {
   "codemirror_mode": {
    "name": "ipython",
    "version": 2
   },
   "file_extension": ".py",
   "mimetype": "text/x-python",
   "name": "python",
   "nbconvert_exporter": "python",
   "pygments_lexer": "ipython2",
   "version": "2.7.15"
  }
 },
 "nbformat": 4,
 "nbformat_minor": 2
}
